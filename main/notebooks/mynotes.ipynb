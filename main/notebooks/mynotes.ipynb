{
 "metadata": {
  "language_info": {
   "codemirror_mode": {
    "name": "ipython",
    "version": 3
   },
   "file_extension": ".py",
   "mimetype": "text/x-python",
   "name": "python",
   "nbconvert_exporter": "python",
   "pygments_lexer": "ipython3",
   "version": "3.7.3-final"
  },
  "orig_nbformat": 2,
  "kernelspec": {
   "name": "python3",
   "display_name": "Python 3",
   "language": "python"
  }
 },
 "nbformat": 4,
 "nbformat_minor": 2,
 "cells": [
  {
   "source": [
    "!git log\n"
   ],
   "cell_type": "code",
   "metadata": {},
   "execution_count": 1,
   "outputs": [
    {
     "output_type": "stream",
     "name": "stdout",
     "text": [
      "\u001b[33mcommit bf0923fc2e726278f0c7f4eeb9da5a177fe41a25\u001b[m\nMerge: ae6c205 701c912\nAuthor: Atena Darvishi <atenadarvishi@Atenas-MacBook-Pro.local>\nDate:   Mon Jan 18 20:31:02 2021 -0500\n\n    Merge branch 'main' of https://github.com/sakha002/github_tut into main\n\n\u001b[33mcommit ae6c2052c78c64a5276604d99ac0af69ef38a295\u001b[m\nAuthor: Atena Darvishi <atenadarvishi@Atenas-MacBook-Pro.local>\nDate:   Mon Jan 18 20:27:52 2021 -0500\n\n    add to gitignore\n\n\u001b[33mcommit 701c912442f42b24f4f94ee3bf25367eaaf66e4b\u001b[m\nAuthor: Hossein Hejazi <h.akhavanhejazi@shell.com>\nDate:   Sun Dec 6 15:21:48 2020 -0800\n\n    finish the experiment\n\n\u001b[33mcommit 8bf185db99f553c4a7a6d87604976830f572e9f4\u001b[m\nAuthor: Hossein Hejazi <h.akhavanhejazi@shell.com>\nDate:   Sun Dec 6 15:12:31 2020 -0800\n\n    git diff for docx works!\n\n\u001b[33mcommit 644e2ba9f9703a179e03bf82ff744a2e2daf71c5\u001b[m\nAuthor: Hossein Hejazi <h.akhavanhejazi@shell.com>\nDate:   Sun Dec 6 14:57:01 2020 -0800\n\n    remove the first parag\n\n\u001b[33mcommit 3f0af2840b9775f91cdc3dec2a7dc476efaec41f\u001b[m\nAuthor: Hossein Hejazi <h.akhavanhejazi@shell.com>\nDate:   Sun Dec 6 14:52:56 2020 -0800\n\n    adding the files for doc diff test\n\n\u001b[33mcommit 34f09be5a651524696e2b44334506758ddea8d40\u001b[m\nAuthor: Atena Darvishi <atenadarvishi@Atenas-MacBook-Pro.local>\nDate:   Sat Oct 17 19:51:43 2020 -0400\n\n    adding more functions\n\n\u001b[33mcommit fc7f9cd1e558115215de023d90360ab387c576fe\u001b[m\nAuthor: sakhavanhejazi_mac <h.akhavanhejazi@shell.com>\nDate:   Sat Oct 17 16:21:03 2020 -0700\n\n     made two changes, rearrange and adding second function\n\n\u001b[33mcommit 1a2a0d85e7f5d80cd2787ebb9fb029a29c0060e3\u001b[m\nAuthor: Atena Darvishi <atenadarvishi@Atenas-MacBook-Pro.local>\nDate:   Sat Oct 17 19:01:42 2020 -0400\n\n    adding the first function\n\n\u001b[33mcommit 073bc67755fb0982add8b8681cbc97a00833cae0\u001b[m\nAuthor: Atena Darvishi <atenadarvishi@Atenas-MacBook-Pro.local>\nDate:   Sat Oct 17 13:28:48 2020 -0400\n\n    adding the tepython file\n\n\u001b[33mcommit cfdf9814ed22a24ac12c7c7933e90a8f2c6bc682\u001b[m\nAuthor: Atena Darvishi <atenadarvishi@Atenas-MacBook-Pro.local>\nDate:   Sat Oct 17 12:41:55 2020 -0400\n\n    adding the test notebook\n\n\u001b[33mcommit 468fc64b4bbe27ab922f1b698385f393bda73e7c\u001b[m\nAuthor: sakha002 <sakha002@ucr.edu>\nDate:   Sat Oct 17 09:20:52 2020 -0700\n\n    Initial commit\n"
     ]
    }
   ]
  },
  {
   "cell_type": "code",
   "execution_count": 2,
   "metadata": {},
   "outputs": [
    {
     "output_type": "stream",
     "name": "stdout",
     "text": [
      "On branch main\nYour branch is ahead of 'origin/main' by 2 commits.\n  (use \"git push\" to publish your local commits)\nChanges not staged for commit:\n  (use \"git add/rm <file>...\" to update what will be committed)\n  (use \"git checkout -- <file>...\" to discard changes in working directory)\n\n\t\u001b[31mdeleted:    Test.ipynb\u001b[m\n\t\u001b[31mdeleted:    ../scripts/help_functions.py\u001b[m\n\t\u001b[31mmodified:   ../scripts/test_code.py\u001b[m\n\nUntracked files:\n  (use \"git add <file>...\" to include in what will be committed)\n\n\t\u001b[31mmynotes.ipynb\u001b[m\n\t\u001b[31m../scripts/utilz/\u001b[m\n\nno changes added to commit (use \"git add\" and/or \"git commit -a\")\n"
     ]
    }
   ],
   "source": [
    "!git status"
   ]
  },
  {
   "source": [
    "in order to exit the log view we need to push :q"
   ],
   "cell_type": "markdown",
   "metadata": {}
  },
  {
   "cell_type": "code",
   "execution_count": 3,
   "metadata": {},
   "outputs": [
    {
     "output_type": "stream",
     "name": "stdout",
     "text": [
      "\u001b[34m.\u001b[m\u001b[m               \u001b[34m..\u001b[m\u001b[m              .DS_Store       mynotes.ipynb   word_diff.ipynb\n"
     ]
    }
   ],
   "source": [
    "!ls -a\n"
   ]
  },
  {
   "cell_type": "code",
   "execution_count": 4,
   "metadata": {},
   "outputs": [
    {
     "output_type": "stream",
     "name": "stdout",
     "text": [
      "/Users/atenadarvishi/Documents/JupiterNotebook/github_tut\nREADME.md \u001b[34mmain\u001b[m\u001b[m\n"
     ]
    }
   ],
   "source": [
    "%cd ../..\n",
    "!ls \n"
   ]
  },
  {
   "source": [
    "git status\n",
    "git add . (repo root file and evrything in it will be added to git for commit)\n",
    "git status\n",
    "git commit -m 'comment'"
   ],
   "cell_type": "markdown",
   "metadata": {}
  },
  {
   "source": [
    "some random changes "
   ],
   "cell_type": "markdown",
   "metadata": {}
  }
 ]
}